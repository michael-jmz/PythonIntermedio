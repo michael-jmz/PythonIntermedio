{
 "cells": [
  {
   "cell_type": "markdown",
   "metadata": {},
   "source": [
    "# PYTHON INTERMEDIO PARA INGENIERÍA\n",
    "\n",
    "## SEGUNDO EXAMEN BIMESTRAL\n",
    "\n",
    "    Nombres y Apellidos: Cristhian Michael Jiménez Jiménez\n",
    "    Profesor:              Santiago Quiñones\n",
    "    Fecha:                 02/12/2020\n",
    "\n",
    "Indicaciones: Lea detenidamente cada uno de los problemas, si algo no se entiende pregunte al inicio del examen. En la calificación del examen se considerará los comentarios en partes importantes, nombres de variables, organización. Tiene 1 hora para desarrollar el examen. \n",
    "\n",
    "Los problemas deben ser resueltos en este archivo y luego exportarlo a PDF.\n",
    "\n",
    "### PROBLEMA 1 (4 Pts.)\n",
    "\n",
    "El archivo sensor.csv contiene información recopilada de un conjunto de sensores.\n",
    "\n",
    "|Tiempo (s)|Sensor 1|Sensor 2|Sensor 3|Sensor 4|Sensor 5|\n",
    "| --- | --- | --- | --- | --- | --- |\n",
    "|0.0000|70.6432|68.3470|72.3469|67.6751|73.1764|\n",
    "|1.0000|73.2823|65.7819|65.4822|71.8548|66.9929|\n",
    "|2.0000|64.1609|72.4888|70.1794|73.6414|72.7559|\n",
    "|3.0000|67.6970|77.4425|66.8623|80.5608|64.5008|\n",
    "|4.0000|68.6878|67.2676|72.6770|63.2135|70.4300|\n",
    "|5.0000|63.9342|65.7662|2.7644|64.8869|59.9772|\n",
    "|6.0000|63.4028|68.7683|68.9815|75.1892|67.5346|\n",
    "|7.0000|74.6561|73.3151|59.7284|68.0510|72.3102|\n",
    "|8.0000|70.0562|65.7290|70.6628|63.0937|68.3950|\n",
    "|9.0000|66.7743|63.9934|77.9647|71.5777|76.1828|\n",
    "|10.0000|74.0286|69.4007|75.0921|77.7662|66.8436|\n",
    "|11.0000|71.1581|69.6735|62.0980|73.5395|58.3739|\n",
    "|12.0000|65.0512|72.4265|69.6067|79.7869|63.8418|\n",
    "|13.0000|76.6979|67.0225|66.5917|72.5227|75.2782|\n",
    "|14.0000|71.4475|69.2517|64.8772|79.3226|69.4339|\n",
    "|15.0000|77.3946|67.8262|63.8282|68.3009|71.8961|\n",
    "|16.0000|75.6901|69.6033|71.4440|64.3011|74.7210|\n",
    "|17.0000|66.5793|77.6758|67.8535|68.9444|59.3979|\n",
    "|18.0000|63.5403|66.9676|70.2790|75.9512|66.7766|\n",
    "|19.0000|69.6354|63.2632|68.1606|64.4190|66.4785|\n",
    "\n",
    "Cada fila contiene un conjunto de lecturas de sensor, donde la primera fila contiene valores recopilados a 0 segundos, la segunda fila contiene valores recopilados a 1.0 segundos, etcétera.\n",
    "\n",
    "a) Lea el archivo de datos e imprima el número de sensores y el número de segundos de datos contenidos en el archivo y escriba los resultados de este ítem y los demás en un **archivo de texto** (realice un control de excepciones).\n"
   ]
  },
  {
   "cell_type": "code",
   "execution_count": null,
   "metadata": {},
   "outputs": [],
   "source": []
  },
  {
   "cell_type": "code",
   "execution_count": 20,
   "metadata": {},
   "outputs": [
    {
     "name": "stdout",
     "output_type": "stream",
     "text": [
      "['Tiempo', 'Sensor_1', ' Sensor_2', ' Sensor_3', ' Sensor_4', ' Sensor_5']\n",
      "['0.0000', '70.6432', '68.3470', '72.3469', '67.6751', '73.1764']\n",
      "['1.0000', '73.2823', '65.7819', '65.4822', '71.8548', '66.9929']\n",
      "['2.0000', '64.1609', '72.4888', '70.1794', '73.6414', '72.7559']\n",
      "['3.0000', '67.6970', '77.4425', '66.8623', '80.5608', '64.5008']\n",
      "['4.0000', '68.6878', '67.2676', '72.6770', '63.2135', '70.4300']\n",
      "['5.0000', '63.9342', '65.7662', '2.7644', '64.8869', '59.9772']\n",
      "['6.0000', '63.4028', '68.7683', '68.9815', '75.1892', '67.5346']\n",
      "['7.0000', '74.6561', '73.3151', '59.7284', '68.0510', '72.3102']\n",
      "['8.0000', '70.0562', '65.7290', '70.6628', '63.0937', '68.3950']\n",
      "['9.0000', '66.7743', '63.9934', '77.9647', '71.5777', '76.1828']\n",
      "['10.0000', '74.0286', '69.4007', '75.0921', '77.7662', '66.8436']\n",
      "['11.0000', '71.1581', '69.6735', '62.0980', '73.5395', '58.3739']\n",
      "['12.0000', '65.0512', '72.4265', '69.6067', '79.7869', '63.8418']\n",
      "['13.0000', '76.6979', '67.0225', '66.5917', '72.5227', '75.2782']\n",
      "['14.0000', '71.4475', '69.2517', '64.8772', '79.3226', '69.4339']\n",
      "['15.0000', '77.3946', '67.8262', '63.8282', '68.3009', '71.8961']\n",
      "['16.0000', '75.6901', '69.6033', '71.4440', '64.3011', '74.7210']\n",
      "['17.0000', '66.5793', '77.6758', '67.8535', '68.9444', '59.3979']\n",
      "['18.0000', '63.5403', '66.9676', '70.2790', '75.9512', '66.7766']\n",
      "['19.0000', '69.6354', '63.2632', '68.1606', '64.4190', '66.4785']\n",
      "Archivo cerrado\n",
      "exit\n"
     ]
    }
   ],
   "source": [
    "import csv\n",
    "try:\n",
    "    with open('sensor.csv', newline='') as File:  \n",
    "        reader = csv.reader(File)\n",
    "        for row in reader:\n",
    "            print(row)\n",
    "    \n",
    "except IOError:\n",
    "    print(\"Archivo no econtrado en el direcotrio\")\n",
    "else:\n",
    "    File.close()\n",
    "    print (\"Archivo cerrado\")\n",
    "finally:\n",
    "    print(\"exit\")"
   ]
  },
  {
   "cell_type": "markdown",
   "metadata": {},
   "source": [
    "b) Encuentre los valores máximo, mínimo, media y la desviación estandar registrados en cada sensor. Recuerde: la columna 1 no contiene datos de sensor; contiene datos de tiempo. "
   ]
  },
  {
   "cell_type": "code",
   "execution_count": 39,
   "metadata": {},
   "outputs": [
    {
     "data": {
      "text/html": [
       "<div>\n",
       "<style scoped>\n",
       "    .dataframe tbody tr th:only-of-type {\n",
       "        vertical-align: middle;\n",
       "    }\n",
       "\n",
       "    .dataframe tbody tr th {\n",
       "        vertical-align: top;\n",
       "    }\n",
       "\n",
       "    .dataframe thead th {\n",
       "        text-align: right;\n",
       "    }\n",
       "</style>\n",
       "<table border=\"1\" class=\"dataframe\">\n",
       "  <thead>\n",
       "    <tr style=\"text-align: right;\">\n",
       "      <th></th>\n",
       "      <th>Sensor_1</th>\n",
       "      <th>Sensor_2</th>\n",
       "      <th>Sensor_3</th>\n",
       "      <th>Sensor_4</th>\n",
       "      <th>Sensor_5</th>\n",
       "    </tr>\n",
       "    <tr>\n",
       "      <th>Tiempo</th>\n",
       "      <th></th>\n",
       "      <th></th>\n",
       "      <th></th>\n",
       "      <th></th>\n",
       "      <th></th>\n",
       "    </tr>\n",
       "  </thead>\n",
       "  <tbody>\n",
       "    <tr>\n",
       "      <th>0.0</th>\n",
       "      <td>70.6432</td>\n",
       "      <td>68.3470</td>\n",
       "      <td>72.3469</td>\n",
       "      <td>67.6751</td>\n",
       "      <td>73.1764</td>\n",
       "    </tr>\n",
       "    <tr>\n",
       "      <th>1.0</th>\n",
       "      <td>73.2823</td>\n",
       "      <td>65.7819</td>\n",
       "      <td>65.4822</td>\n",
       "      <td>71.8548</td>\n",
       "      <td>66.9929</td>\n",
       "    </tr>\n",
       "    <tr>\n",
       "      <th>2.0</th>\n",
       "      <td>64.1609</td>\n",
       "      <td>72.4888</td>\n",
       "      <td>70.1794</td>\n",
       "      <td>73.6414</td>\n",
       "      <td>72.7559</td>\n",
       "    </tr>\n",
       "    <tr>\n",
       "      <th>3.0</th>\n",
       "      <td>67.6970</td>\n",
       "      <td>77.4425</td>\n",
       "      <td>66.8623</td>\n",
       "      <td>80.5608</td>\n",
       "      <td>64.5008</td>\n",
       "    </tr>\n",
       "    <tr>\n",
       "      <th>4.0</th>\n",
       "      <td>68.6878</td>\n",
       "      <td>67.2676</td>\n",
       "      <td>72.6770</td>\n",
       "      <td>63.2135</td>\n",
       "      <td>70.4300</td>\n",
       "    </tr>\n",
       "    <tr>\n",
       "      <th>5.0</th>\n",
       "      <td>63.9342</td>\n",
       "      <td>65.7662</td>\n",
       "      <td>2.7644</td>\n",
       "      <td>64.8869</td>\n",
       "      <td>59.9772</td>\n",
       "    </tr>\n",
       "    <tr>\n",
       "      <th>6.0</th>\n",
       "      <td>63.4028</td>\n",
       "      <td>68.7683</td>\n",
       "      <td>68.9815</td>\n",
       "      <td>75.1892</td>\n",
       "      <td>67.5346</td>\n",
       "    </tr>\n",
       "    <tr>\n",
       "      <th>7.0</th>\n",
       "      <td>74.6561</td>\n",
       "      <td>73.3151</td>\n",
       "      <td>59.7284</td>\n",
       "      <td>68.0510</td>\n",
       "      <td>72.3102</td>\n",
       "    </tr>\n",
       "    <tr>\n",
       "      <th>8.0</th>\n",
       "      <td>70.0562</td>\n",
       "      <td>65.7290</td>\n",
       "      <td>70.6628</td>\n",
       "      <td>63.0937</td>\n",
       "      <td>68.3950</td>\n",
       "    </tr>\n",
       "    <tr>\n",
       "      <th>9.0</th>\n",
       "      <td>66.7743</td>\n",
       "      <td>63.9934</td>\n",
       "      <td>77.9647</td>\n",
       "      <td>71.5777</td>\n",
       "      <td>76.1828</td>\n",
       "    </tr>\n",
       "    <tr>\n",
       "      <th>10.0</th>\n",
       "      <td>74.0286</td>\n",
       "      <td>69.4007</td>\n",
       "      <td>75.0921</td>\n",
       "      <td>77.7662</td>\n",
       "      <td>66.8436</td>\n",
       "    </tr>\n",
       "    <tr>\n",
       "      <th>11.0</th>\n",
       "      <td>71.1581</td>\n",
       "      <td>69.6735</td>\n",
       "      <td>62.0980</td>\n",
       "      <td>73.5395</td>\n",
       "      <td>58.3739</td>\n",
       "    </tr>\n",
       "    <tr>\n",
       "      <th>12.0</th>\n",
       "      <td>65.0512</td>\n",
       "      <td>72.4265</td>\n",
       "      <td>69.6067</td>\n",
       "      <td>79.7869</td>\n",
       "      <td>63.8418</td>\n",
       "    </tr>\n",
       "    <tr>\n",
       "      <th>13.0</th>\n",
       "      <td>76.6979</td>\n",
       "      <td>67.0225</td>\n",
       "      <td>66.5917</td>\n",
       "      <td>72.5227</td>\n",
       "      <td>75.2782</td>\n",
       "    </tr>\n",
       "    <tr>\n",
       "      <th>14.0</th>\n",
       "      <td>71.4475</td>\n",
       "      <td>69.2517</td>\n",
       "      <td>64.8772</td>\n",
       "      <td>79.3226</td>\n",
       "      <td>69.4339</td>\n",
       "    </tr>\n",
       "    <tr>\n",
       "      <th>15.0</th>\n",
       "      <td>77.3946</td>\n",
       "      <td>67.8262</td>\n",
       "      <td>63.8282</td>\n",
       "      <td>68.3009</td>\n",
       "      <td>71.8961</td>\n",
       "    </tr>\n",
       "    <tr>\n",
       "      <th>16.0</th>\n",
       "      <td>75.6901</td>\n",
       "      <td>69.6033</td>\n",
       "      <td>71.4440</td>\n",
       "      <td>64.3011</td>\n",
       "      <td>74.7210</td>\n",
       "    </tr>\n",
       "    <tr>\n",
       "      <th>17.0</th>\n",
       "      <td>66.5793</td>\n",
       "      <td>77.6758</td>\n",
       "      <td>67.8535</td>\n",
       "      <td>68.9444</td>\n",
       "      <td>59.3979</td>\n",
       "    </tr>\n",
       "    <tr>\n",
       "      <th>18.0</th>\n",
       "      <td>63.5403</td>\n",
       "      <td>66.9676</td>\n",
       "      <td>70.2790</td>\n",
       "      <td>75.9512</td>\n",
       "      <td>66.7766</td>\n",
       "    </tr>\n",
       "    <tr>\n",
       "      <th>19.0</th>\n",
       "      <td>69.6354</td>\n",
       "      <td>63.2632</td>\n",
       "      <td>68.1606</td>\n",
       "      <td>64.4190</td>\n",
       "      <td>66.4785</td>\n",
       "    </tr>\n",
       "  </tbody>\n",
       "</table>\n",
       "</div>"
      ],
      "text/plain": [
       "        Sensor_1   Sensor_2   Sensor_3   Sensor_4   Sensor_5\n",
       "Tiempo                                                      \n",
       "0.0      70.6432    68.3470    72.3469    67.6751    73.1764\n",
       "1.0      73.2823    65.7819    65.4822    71.8548    66.9929\n",
       "2.0      64.1609    72.4888    70.1794    73.6414    72.7559\n",
       "3.0      67.6970    77.4425    66.8623    80.5608    64.5008\n",
       "4.0      68.6878    67.2676    72.6770    63.2135    70.4300\n",
       "5.0      63.9342    65.7662     2.7644    64.8869    59.9772\n",
       "6.0      63.4028    68.7683    68.9815    75.1892    67.5346\n",
       "7.0      74.6561    73.3151    59.7284    68.0510    72.3102\n",
       "8.0      70.0562    65.7290    70.6628    63.0937    68.3950\n",
       "9.0      66.7743    63.9934    77.9647    71.5777    76.1828\n",
       "10.0     74.0286    69.4007    75.0921    77.7662    66.8436\n",
       "11.0     71.1581    69.6735    62.0980    73.5395    58.3739\n",
       "12.0     65.0512    72.4265    69.6067    79.7869    63.8418\n",
       "13.0     76.6979    67.0225    66.5917    72.5227    75.2782\n",
       "14.0     71.4475    69.2517    64.8772    79.3226    69.4339\n",
       "15.0     77.3946    67.8262    63.8282    68.3009    71.8961\n",
       "16.0     75.6901    69.6033    71.4440    64.3011    74.7210\n",
       "17.0     66.5793    77.6758    67.8535    68.9444    59.3979\n",
       "18.0     63.5403    66.9676    70.2790    75.9512    66.7766\n",
       "19.0     69.6354    63.2632    68.1606    64.4190    66.4785"
      ]
     },
     "execution_count": 39,
     "metadata": {},
     "output_type": "execute_result"
    }
   ],
   "source": [
    "\n",
    "import pandas as pd\n",
    "import numpy as np\n",
    "import matplotlib.pyplot as plt\n",
    "\n",
    "data = pd.read_csv('sensor.csv', parse_dates=['Tiempo'], index_col='Tiempo', sep=',', na_values='')\n",
    "data"
   ]
  },
  {
   "cell_type": "code",
   "execution_count": 28,
   "metadata": {},
   "outputs": [
    {
     "data": {
      "text/plain": [
       "Sensor_1     69.725890\n",
       " Sensor_2    69.100540\n",
       " Sensor_3    65.374030\n",
       " Sensor_4    71.229930\n",
       " Sensor_5    68.264865\n",
       "dtype: float64"
      ]
     },
     "execution_count": 28,
     "metadata": {},
     "output_type": "execute_result"
    }
   ],
   "source": [
    "#valor media\n",
    "data.mean()"
   ]
  },
  {
   "cell_type": "code",
   "execution_count": 30,
   "metadata": {},
   "outputs": [
    {
     "data": {
      "text/plain": [
       "Sensor_1     63.4028\n",
       " Sensor_2    63.2632\n",
       " Sensor_3     2.7644\n",
       " Sensor_4    63.0937\n",
       " Sensor_5    58.3739\n",
       "dtype: float64"
      ]
     },
     "execution_count": 30,
     "metadata": {},
     "output_type": "execute_result"
    }
   ],
   "source": [
    "#valor minimo\n",
    "data.min()"
   ]
  },
  {
   "cell_type": "code",
   "execution_count": 32,
   "metadata": {},
   "outputs": [
    {
     "data": {
      "text/plain": [
       "Sensor_1     77.3946\n",
       " Sensor_2    77.6758\n",
       " Sensor_3    77.9647\n",
       " Sensor_4    80.5608\n",
       " Sensor_5    76.1828\n",
       "dtype: float64"
      ]
     },
     "execution_count": 32,
     "metadata": {},
     "output_type": "execute_result"
    }
   ],
   "source": [
    "#calculo de la maximo\n",
    "data.max()"
   ]
  },
  {
   "cell_type": "markdown",
   "metadata": {},
   "source": [
    "c) Trace una gráfica de los datos registrados. Etiquete correctamente los elementos del gráfico de tal forma que sea legible la información."
   ]
  },
  {
   "cell_type": "code",
   "execution_count": 41,
   "metadata": {},
   "outputs": [
    {
     "data": {
      "image/png": "[encoded data removed]",
      "text/plain": [
       "<Figure size 432x288 with 1 Axes>"
      ]
     },
     "metadata": {
      "needs_background": "light"
     },
     "output_type": "display_data"
    }
   ],
   "source": [
    "plt.plot(data.Sensor_1, 'bo')\n",
    "plt.grid(True)\n",
    "plt.show()"
   ]
  },
  {
   "cell_type": "markdown",
   "metadata": {},
   "source": [
    "### PROBLEMA 2 (3 Pts.)"
   ]
  },
  {
   "cell_type": "markdown",
   "metadata": {},
   "source": [
    "Sea el siguiente polinomio que representa la altitud en metros durante las primeras 48 horas siguientes al lanzamiento de un globo meteorológico:"
   ]
  },
  {
   "cell_type": "markdown",
   "metadata": {},
   "source": [
    "$h(t) = -0.12t^4 + 12t^3 - 380t^2 + 4100t + 220$"
   ]
  },
  {
   "cell_type": "markdown",
   "metadata": {},
   "source": [
    "Suponga que las unidades de t son horas.\n",
    "\n",
    "- Use sympy junto con el hecho de que la velocidad es la primera derivada de la altitud para determinar la ecuación para la velocidad del globo.\n",
    "- Use sympy junto con el hecho de que la aceleración es la derivada de la velocidad, o la segunda derivada de la altitud, para determinar la ecuación para la aceleración del globo.\n",
    "- Use sympy para determinar cuándo el globo golpea el suelo. Puesto que h(t) es un polinomio de cuarto orden, habrá cuatro respuestas. Sin embargo, sólo una respuesta será físicamente significativa.\n",
    "\n"
   ]
  },
  {
   "cell_type": "code",
   "execution_count": 34,
   "metadata": {},
   "outputs": [
    {
     "data": {
      "text/latex": [
       "$\\displaystyle 3375.52$"
      ],
      "text/plain": [
       "3375.52000000000"
      ]
     },
     "execution_count": 34,
     "metadata": {},
     "output_type": "execute_result"
    }
   ],
   "source": [
    "import sympy as sp \n",
    "#a nuestra variable t la tranformamos en simbolo\n",
    "t = sp.Symbol('t') \n",
    "y = - 0.12*t*4 + 12*t*3 - 380*t*2 + 4100*t + 220\n",
    "sp.diff(y,t)"
   ]
  },
  {
   "cell_type": "code",
   "execution_count": 36,
   "metadata": {},
   "outputs": [
    {
     "data": {
      "text/plain": [
       "[-0.0651566128038668]"
      ]
     },
     "execution_count": 36,
     "metadata": {},
     "output_type": "execute_result"
    }
   ],
   "source": [
    "#rsolve resolvemos la ecuaciones\n",
    "sp.solve(0.12*t*4 + 12*t*3 - 380*t*2 + 4100*t + 220,t)"
   ]
  },
  {
   "cell_type": "code",
   "execution_count": 44,
   "metadata": {},
   "outputs": [
    {
     "data": {
      "text/latex": [
       "$\\displaystyle -689.44$"
      ],
      "text/plain": [
       "-689.440000000000"
      ]
     },
     "execution_count": 44,
     "metadata": {},
     "output_type": "execute_result"
    }
   ],
   "source": [
    "#derivadas\n",
    "y = -0.48*t*3 + 36*t*2 - 760*t + 4100\n",
    "sp.diff(y,t)"
   ]
  }
 ],
 "metadata": {
  "kernelspec": {
   "display_name": "Python 3",
   "language": "python",
   "name": "python3"
  },
  "language_info": {
   "codemirror_mode": {
    "name": "ipython",
    "version": 3
   },
   "file_extension": ".py",
   "mimetype": "text/x-python",
   "name": "python",
   "nbconvert_exporter": "python",
   "pygments_lexer": "ipython3",
   "version": "3.7.3"
  }
 },
 "nbformat": 4,
 "nbformat_minor": 4
}
