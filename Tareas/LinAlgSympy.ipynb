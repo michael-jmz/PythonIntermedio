{
 "cells": [
  {
   "cell_type": "markdown",
   "metadata": {},
   "source": [
    "# Tarea Nro. 3 - LinAlg + Sympy"
   ]
  },
  {
   "cell_type": "markdown",
   "metadata": {},
   "source": [
    "- Nombre y apellido: Braulio Morocho\n",
    "- Fecha:             01-12-1996  "
   ]
  },
  {
   "cell_type": "code",
   "execution_count": 2,
   "metadata": {},
   "outputs": [],
   "source": [
    "from sympy import *\n",
    "import numpy as np "
   ]
  },
  {
   "cell_type": "code",
   "execution_count": 3,
   "metadata": {},
   "outputs": [],
   "source": [
    "init_printing(use_latex=True)"
   ]
  },
  {
   "cell_type": "markdown",
   "metadata": {},
   "source": [
    "### Producto punto"
   ]
  },
  {
   "cell_type": "markdown",
   "metadata": {},
   "source": [
    "1. Use un producto punto y la lista de compras de la tabla 9.4 para determinar su cuenta total en la tienda.\n",
    "\n",
    "\n",
    "<img src=\"./img/Tabla9.4.png\" alt=\"drawing\" width=\"400\"/>\n"
   ]
  },
  {
   "cell_type": "code",
   "execution_count": 4,
   "metadata": {},
   "outputs": [
    {
     "ename": "AttributeError",
     "evalue": "'MutableDenseMatrix' object has no attribute 'po'",
     "output_type": "error",
     "traceback": [
      "\u001b[1;31m---------------------------------------------------------------------------\u001b[0m",
      "\u001b[1;31mAttributeError\u001b[0m                            Traceback (most recent call last)",
      "\u001b[1;32m<ipython-input-4-9be54817ee85>\u001b[0m in \u001b[0;36m<module>\u001b[1;34m\u001b[0m\n\u001b[0;32m      1\u001b[0m \u001b[0ma\u001b[0m\u001b[1;33m=\u001b[0m \u001b[0mMatrix\u001b[0m\u001b[1;33m(\u001b[0m\u001b[1;33m[\u001b[0m\u001b[1;33m[\u001b[0m\u001b[1;36m2\u001b[0m\u001b[1;33m]\u001b[0m\u001b[1;33m,\u001b[0m\u001b[1;33m[\u001b[0m\u001b[1;36m1\u001b[0m\u001b[1;33m]\u001b[0m\u001b[1;33m,\u001b[0m\u001b[1;33m[\u001b[0m\u001b[1;36m2\u001b[0m\u001b[1;33m]\u001b[0m\u001b[1;33m,\u001b[0m\u001b[1;33m[\u001b[0m\u001b[1;36m5\u001b[0m\u001b[1;33m]\u001b[0m\u001b[1;33m,\u001b[0m\u001b[1;33m[\u001b[0m\u001b[1;36m1\u001b[0m\u001b[1;33m]\u001b[0m\u001b[1;33m]\u001b[0m\u001b[1;33m)\u001b[0m\u001b[1;33m\u001b[0m\u001b[1;33m\u001b[0m\u001b[0m\n\u001b[0;32m      2\u001b[0m \u001b[0mb\u001b[0m\u001b[1;33m=\u001b[0m \u001b[0mMatrix\u001b[0m\u001b[1;33m(\u001b[0m\u001b[1;33m[\u001b[0m\u001b[1;33m[\u001b[0m\u001b[1;36m3.5\u001b[0m\u001b[1;33m,\u001b[0m\u001b[1;36m1.25\u001b[0m\u001b[1;33m,\u001b[0m\u001b[1;36m4.25\u001b[0m\u001b[1;33m,\u001b[0m\u001b[1;36m1.55\u001b[0m\u001b[1;33m,\u001b[0m\u001b[1;36m3.15\u001b[0m\u001b[1;33m]\u001b[0m\u001b[1;33m]\u001b[0m\u001b[1;33m)\u001b[0m\u001b[1;33m\u001b[0m\u001b[1;33m\u001b[0m\u001b[0m\n\u001b[1;32m----> 3\u001b[1;33m \u001b[0ma\u001b[0m\u001b[1;33m.\u001b[0m\u001b[0mpo\u001b[0m\u001b[1;33m\u001b[0m\u001b[1;33m\u001b[0m\u001b[0m\n\u001b[0m",
      "\u001b[1;31mAttributeError\u001b[0m: 'MutableDenseMatrix' object has no attribute 'po'"
     ]
    }
   ],
   "source": [
    "a= Matrix([[2],[1],[2],[5],[1]])\n",
    "b= Matrix([[3.5,1.25,4.25,1.55,3.15]])\n",
    "a.po"
   ]
  },
  {
   "cell_type": "markdown",
   "metadata": {},
   "source": [
    "### Multiplicación matricial "
   ]
  },
  {
   "cell_type": "markdown",
   "metadata": {},
   "source": [
    "2. Con un calorímetro de bomba se realizó una serie de experimentos. En cada experimento se usó una cantidad diferente de agua. Calcule la capacidad calorífica total para el calorímetro en cada uno de los experimentos, mediante multiplicación matricial, los datos de la tabla 9.8 y la información acerca de la capacidad calorífica que sigue a la tabla.\n",
    "\n",
    "<img src=\"./img/Tabla9.8_1.png\" alt=\"drawing\" width=\"400\"/>\n",
    "<img src=\"./img/Tabla9.8_2.png\" alt=\"drawing\" width=\"400\"/>"
   ]
  },
  {
   "cell_type": "code",
   "execution_count": 29,
   "metadata": {},
   "outputs": [
    {
     "name": "stdout",
     "output_type": "stream",
     "text": [
      "La capcidad colorifica total por experimento es: \n",
      "Experimento1 : 1108.5J/k\n",
      "Experimento2 : 1104.0J/k\n",
      "Experimento3 : 1104.45J/k\n",
      "Experimento4 : 1103.37J/k\n",
      "Experimento5 : 1103.73J/k\n"
     ]
    }
   ],
   "source": [
    "e=[\"Experimento1\",\"Experimento2\",\"Experimento3\",\"Experimento4\",\"Experimento5\"]\n",
    "m=[[110,250,10],[100,250,10],[101,250,10],[98.6,250,10],[99.4,250,10]]\n",
    "c=[0.45,4.2,0.90]\n",
    "r=np.dot(m,c)\n",
    "print(\"La capcidad colorifica total por experimento es: \")\n",
    "for i in range (len(e)):\n",
    "    print(e[i], \": \", end = f\"{r[i]}J/k\\n\")"
   ]
  },
  {
   "cell_type": "markdown",
   "metadata": {},
   "source": [
    "### Determinantes e inversos"
   ]
  },
  {
   "cell_type": "markdown",
   "metadata": {},
   "source": [
    "3. Recuerde que no todas las matrices tienen inverso. Una matriz es singular (es decir: no tiene inverso) si su determinante es igual a 0 (es decir, |A| = 0). Use la función determinante para probar si cada una de las siguientes matrices tiene inverso:\n",
    "\n",
    "<img src=\"./img/Matrices9.14.png\" alt=\"drawing\" width=\"400\"/>\n",
    "\n",
    "Si existe un inverso, calcúlelo."
   ]
  },
  {
   "cell_type": "code",
   "execution_count": 16,
   "metadata": {},
   "outputs": [
    {
     "data": {
      "image/png": "[encoded data removed]",
      "text/latex": [
       "$\\displaystyle 14$"
      ],
      "text/plain": [
       "14"
      ]
     },
     "execution_count": 16,
     "metadata": {},
     "output_type": "execute_result"
    }
   ],
   "source": [
    "A = Matrix([[2,4], [-1,5]])\n",
    "A.det()\n"
   ]
  },
  {
   "cell_type": "code",
   "execution_count": 17,
   "metadata": {},
   "outputs": [
    {
     "data": {
      "image/png": "[encoded data removed]",
      "text/latex": [
       "$\\displaystyle 0$"
      ],
      "text/plain": [
       "0"
      ]
     },
     "execution_count": 17,
     "metadata": {},
     "output_type": "execute_result"
    }
   ],
   "source": [
    "B = Matrix([[4,2], [2,1]])\n",
    "B.det()"
   ]
  },
  {
   "cell_type": "code",
   "execution_count": 18,
   "metadata": {},
   "outputs": [
    {
     "data": {
      "image/png": "[encoded data removed]",
      "text/latex": [
       "$\\displaystyle 16$"
      ],
      "text/plain": [
       "16"
      ]
     },
     "execution_count": 18,
     "metadata": {},
     "output_type": "execute_result"
    }
   ],
   "source": [
    "C = Matrix([[2,1,5], [0,2,-4],[0,2,0]])\n",
    "C.det()"
   ]
  },
  {
   "cell_type": "markdown",
   "metadata": {},
   "source": [
    "### Resolución de sistemas ecuaciones lineales"
   ]
  },
  {
   "cell_type": "markdown",
   "metadata": {},
   "source": [
    "4. Resuelva el siguiente sistema de ecuaciones \n",
    "\n",
    "<img src=\"./img/SistemaEcuaciones9.19.png\" alt=\"drawing\" width=\"400\"/>"
   ]
  },
  {
   "cell_type": "code",
   "execution_count": 15,
   "metadata": {},
   "outputs": [
    {
     "data": {
      "image/png": "[encoded data removed]",
      "text/latex": [
       "$\\displaystyle \\left\\{ x_{1} : - \\frac{64500}{341279}, \\  x_{2} : \\frac{868859}{341279}, \\  x_{3} : - \\frac{1119591}{341279}, \\  x_{4} : - \\frac{2306289}{341279}, \\  x_{5} : \\frac{450913}{341279}, \\  x_{6} : \\frac{1474137}{341279}, \\  x_{7} : \\frac{214803}{341279}\\right\\}$"
      ],
      "text/plain": [
       "⎧    -64500       868859      -1119591       -2306289       450913      147413\n",
       "⎨x₁: ───────, x₂: ──────, x₃: ─────────, x₄: ─────────, x₅: ──────, x₆: ──────\n",
       "⎩     341279      341279        341279         341279       341279       34127\n",
       "\n",
       "7      214803⎫\n",
       "─, x₇: ──────⎬\n",
       "9      341279⎭"
      ]
     },
     "execution_count": 15,
     "metadata": {},
     "output_type": "execute_result"
    }
   ],
   "source": [
    "x1, x2 , x3, x4 , x5 , x6 ,x7 = symbols(\"x1 x2 x3 x4 x5 x6 x7\")\n",
    "\n",
    "equations = [\n",
    "    Eq( 3*x1 + 4*x2 + 2*x3 - x4 + x5 + 7*x6 + x7,  42 ),\n",
    "    Eq( 2*x1 - 2*x2 + 3*x3 - 4*x4 + 5*x5 + 2*x6 + 8*x7,  32 ),\n",
    "    Eq( x1 + 2*x2 + 3*x3 + x4 + 2*x5 + 4*x6 + 6*x7,  12 ),\n",
    "    Eq( 5*x1 + 10*x2 + 4*x3 + 3*x4 + 9*x5 - 2*x6 + x7,  -5 ),\n",
    "    Eq( 3*x1 + 2*x2 - 2*x3 - 4*x4 - 5*x5 - 6*x6 + 7*x7,  10 ),\n",
    "    Eq( - 2*x1 + 9*x2 + x3 + 3*x4 - 3*x5 + 5*x6 + x7,  18 ),\n",
    "    Eq( x1 - 2*x2 - 8*x3 + 4*x4 + 2*x5 + 4*x6 + 5*x7,  17 ),\n",
    "]\n",
    "solve(equations)"
   ]
  },
  {
   "cell_type": "markdown",
   "metadata": {},
   "source": [
    "### Cálculo"
   ]
  },
  {
   "cell_type": "markdown",
   "metadata": {},
   "source": [
    "5. La capacidad calorífica C<sub>p</sub> de un gas se puede modelar con la ecuación empírica\n",
    "\n",
    "$$C_p = a + bT + cT^2+dT^3$$\n",
    "\n",
    "donde a, b, c y d son constantes empíricas y T es la temperatura en grados Kelvin. El cambio en entalpía (una medida de energía) conforme el gas se caliente de T<sub>1</sub> a T<sub>2</sub>  es la integral de esta ecuación con respecto a T:\n",
    "\n",
    "$$\\bigtriangleup h = \\int_{T_{1}}^{T_{2}} C_{p}dT \\,dx  $$\n",
    "\n",
    "Encuentre el cambio en entalpía del oxígeno gaseoso conforme se calienta de 300 K a 1000 K. Los valores de a, b, c y d para el oxígeno son\n",
    "\n",
    "$$\n",
    "\\begin{equation} \n",
    "\\begin{split}\n",
    "a & = 25.48 \\\\\n",
    "b & = 1.520 x 10^{-2} \\\\\n",
    "c & = -0.7155 x 10^{-5} \\\\\n",
    "d & = 1.312 x 10^{-9}\n",
    "\\end{split}\n",
    "\\end{equation}\n",
    "$$\n"
   ]
  },
  {
   "cell_type": "code",
   "execution_count": null,
   "metadata": {},
   "outputs": [],
   "source": []
  }
 ],
 "metadata": {
  "kernelspec": {
   "display_name": "Python 3",
   "language": "python",
   "name": "python3"
  },
  "language_info": {
   "codemirror_mode": {
    "name": "ipython",
    "version": 3
   },
   "file_extension": ".py",
   "mimetype": "text/x-python",
   "name": "python",
   "nbconvert_exporter": "python",
   "pygments_lexer": "ipython3",
   "version": "3.7.3"
  }
 },
 "nbformat": 4,
 "nbformat_minor": 4
}
