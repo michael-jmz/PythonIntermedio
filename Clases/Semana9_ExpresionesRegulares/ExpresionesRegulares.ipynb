{
 "cells": [
  {
   "cell_type": "markdown",
   "metadata": {
    "id": "0KB6-uz1oX-0"
   },
   "source": [
    "# Clase Nro. 1 SB - Expresiones Regulares\n",
    "\n",
    "1. Importar el módulo regex con `import re`.\n",
    "2. Crear un objeto Regex con la función `re.compile()`. (Recuerde usar una cadena en crudo).\n",
    "3. Pase la cadena que desea buscar en el método `search()` del objeto Regex. Esto devuelve un objeto `Match`.\n",
    "4. Llame al método `group()` del objeto Match para devolver una cadena del texto real emparejado.\n",
    "\n",
    "\n",
    "Todas las funciones regex en Python están en el módulo re:"
   ]
  },
  {
   "cell_type": "code",
   "execution_count": null,
   "metadata": {
    "id": "WCBdJwStoX-4"
   },
   "outputs": [],
   "source": [
    "import re"
   ]
  },
  {
   "cell_type": "markdown",
   "metadata": {
    "id": "oOZITkohoX-5"
   },
   "source": [
    "### Objetos Regex que concuerdan"
   ]
  },
  {
   "cell_type": "code",
   "execution_count": null,
   "metadata": {
    "colab": {
     "base_uri": "https://localhost:8080/"
    },
    "id": "tJgTyzSMoX-5",
    "outputId": "60fd7335-5017-4289-e778-ebb7f8f7b681"
   },
   "outputs": [],
   "source": [
    "phone_num_regex = re.compile(r'\\d\\d\\d-\\d\\d\\d-\\d\\d\\d\\d')\n",
    "mo = phone_num_regex.search('My number is 415-5557-4242.')\n",
    "print(mo)\n",
    "#print('Phone number found: {}'.format(mo.group()))"
   ]
  },
  {
   "cell_type": "markdown",
   "metadata": {
    "id": "N5PO5D5aoX-6"
   },
   "source": [
    "### Agrupación con paréntesis"
   ]
  },
  {
   "cell_type": "code",
   "execution_count": null,
   "metadata": {
    "colab": {
     "base_uri": "https://localhost:8080/",
     "height": 35
    },
    "id": "FcDxZl4PoX-7",
    "outputId": "f21ca2e1-bcb6-453b-f8f6-ed1ac3192ea3"
   },
   "outputs": [],
   "source": [
    "phone_num_regex = re.compile(r'(\\d\\d\\d)-(\\d\\d\\d-\\d\\d\\d\\d)')\n",
    "mo = phone_num_regex.search('My number is 415-555-4242.')\n",
    "mo.group(1)"
   ]
  },
  {
   "cell_type": "code",
   "execution_count": null,
   "metadata": {
    "colab": {
     "base_uri": "https://localhost:8080/",
     "height": 35
    },
    "id": "ouivVP8AoX-8",
    "outputId": "d473c4ad-1630-4cbc-a410-76f6f51b7feb"
   },
   "outputs": [],
   "source": [
    "mo.group(2)"
   ]
  },
  {
   "cell_type": "code",
   "execution_count": null,
   "metadata": {
    "colab": {
     "base_uri": "https://localhost:8080/",
     "height": 35
    },
    "id": "48g0H4f-oX-8",
    "outputId": "310658b7-372d-4de7-cf12-a8f708e4baaa"
   },
   "outputs": [],
   "source": [
    "mo.group(0)"
   ]
  },
  {
   "cell_type": "code",
   "execution_count": null,
   "metadata": {
    "colab": {
     "base_uri": "https://localhost:8080/",
     "height": 35
    },
    "id": "JZrNjOVzoX--",
    "outputId": "cc250f73-7a05-4539-8c83-c1251f85ec13"
   },
   "outputs": [],
   "source": [
    "mo.group()"
   ]
  },
  {
   "cell_type": "markdown",
   "metadata": {
    "id": "n3HILgSioX--"
   },
   "source": [
    "Para recuperar todos los grupos a la vez: use el método \"groups()\" - anote la forma plural del nombre."
   ]
  },
  {
   "cell_type": "code",
   "execution_count": null,
   "metadata": {
    "id": "bjmoq9oPoX-_"
   },
   "outputs": [],
   "source": [
    "mo.groups()\n",
    "area_code, main_number = mo.groups()"
   ]
  },
  {
   "cell_type": "code",
   "execution_count": null,
   "metadata": {
    "colab": {
     "base_uri": "https://localhost:8080/"
    },
    "id": "XaSNZX14oX-_",
    "outputId": "cf8a1ec2-9daa-4e81-d248-f2b65ee029c5"
   },
   "outputs": [],
   "source": [
    "print(area_code)"
   ]
  },
  {
   "cell_type": "code",
   "execution_count": null,
   "metadata": {
    "colab": {
     "base_uri": "https://localhost:8080/"
    },
    "id": "zSKSEiEmoX_A",
    "outputId": "3db0a8fc-6d1f-4504-83bb-6da2862d56d6"
   },
   "outputs": [],
   "source": [
    "print(main_number)"
   ]
  },
  {
   "cell_type": "markdown",
   "metadata": {
    "id": "RxMbIeUAoX_A"
   },
   "source": [
    "### Emparejando múltiples grupos con |\n",
    "\n",
    "El caracter se llama pipe. Puedes usarlo donde quieras para que coincida con una de las muchas expresiones. Por ejemplo, la expresión regular r'Batman|Tina Fey' coincidirá con 'Batman' o 'Tina Fey'."
   ]
  },
  {
   "cell_type": "code",
   "execution_count": null,
   "metadata": {
    "colab": {
     "base_uri": "https://localhost:8080/",
     "height": 35
    },
    "id": "eGnFMrqJoX_B",
    "outputId": "ebafccad-25be-4c34-d1eb-3e9d7cac3465"
   },
   "outputs": [],
   "source": [
    "hero_regex = re.compile (r'Batman|Tina Fey')\n",
    "mo1 = hero_regex.search('Batman and Tina Fey.')\n",
    "mo1.group()"
   ]
  },
  {
   "cell_type": "code",
   "execution_count": null,
   "metadata": {
    "colab": {
     "base_uri": "https://localhost:8080/",
     "height": 35
    },
    "id": "826I5aV3oX_B",
    "outputId": "188b1e3b-ee1f-4ff0-ac9c-05d18fcccb4f"
   },
   "outputs": [],
   "source": [
    "mo2 = hero_regex.search('Tina Fey and Batman.')\n",
    "mo2.group()"
   ]
  },
  {
   "cell_type": "markdown",
   "metadata": {
    "id": "6IbG4ZewoX_C"
   },
   "source": [
    "También puedes usar el **pipe** para hacer coincidir uno de los varios patrones como parte de tu regex:"
   ]
  },
  {
   "cell_type": "code",
   "execution_count": null,
   "metadata": {
    "colab": {
     "base_uri": "https://localhost:8080/",
     "height": 35
    },
    "id": "IDFzuUE1oX_D",
    "outputId": "c40aea2d-d188-46c3-d4ba-36fd62d956fb"
   },
   "outputs": [],
   "source": [
    "bat_regex = re.compile(r'Bat(man|mobile|copter|bat)')\n",
    "mo = bat_regex.search('Batmobile lost a wheel')\n",
    "mo.group()"
   ]
  },
  {
   "cell_type": "code",
   "execution_count": null,
   "metadata": {
    "colab": {
     "base_uri": "https://localhost:8080/",
     "height": 35
    },
    "id": "Us-16bNCoX_D",
    "outputId": "06420a9e-1f68-44ee-8dc5-dc1d08bb06d3"
   },
   "outputs": [],
   "source": [
    "mo.group(1)"
   ]
  },
  {
   "cell_type": "markdown",
   "metadata": {
    "id": "W_ojArQFoX_E"
   },
   "source": [
    "### Coincidencia opcional con el signo de interrogación\n",
    "\n",
    "El caracter ? marca el grupo que lo precede como una parte opcional del patrón."
   ]
  },
  {
   "cell_type": "code",
   "execution_count": null,
   "metadata": {
    "colab": {
     "base_uri": "https://localhost:8080/",
     "height": 35
    },
    "id": "FK9cRZ3WoX_E",
    "outputId": "3957984d-2999-44c4-9f06-7139f1c7148c"
   },
   "outputs": [],
   "source": [
    "bat_regex = re.compile(r'Bat(wo)?man')\n",
    "mo1 = bat_regex.search('The Adventures of Batman')\n",
    "mo1.group()"
   ]
  },
  {
   "cell_type": "code",
   "execution_count": null,
   "metadata": {
    "colab": {
     "base_uri": "https://localhost:8080/"
    },
    "id": "AEmdxbbYoX_E",
    "outputId": "6852794c-47e8-41bb-97e0-bdcf60041c62"
   },
   "outputs": [],
   "source": [
    "mo2 = bat_regex.search('The Adventures of Batwoman')\n",
    "mo2"
   ]
  },
  {
   "cell_type": "markdown",
   "metadata": {
    "id": "k8hE3AkGoX_F"
   },
   "source": [
    "### Emparejar cero o más con la estrella\n",
    "\n",
    "El * (llamado estrella o asterisco) significa \"coincidencia de cero o más\". El grupo que precede a la estrella puede aparecer cualquier número de veces en el texto."
   ]
  },
  {
   "cell_type": "code",
   "execution_count": null,
   "metadata": {
    "colab": {
     "base_uri": "https://localhost:8080/",
     "height": 35
    },
    "id": "GJtd-3CroX_F",
    "outputId": "6e4a38c2-a01f-4830-e4d3-b62a787b05b8"
   },
   "outputs": [],
   "source": [
    "bat_regex = re.compile(r'Bat(wo)*man')\n",
    "mo1 = bat_regex.search('The Adventures of Batman')\n",
    "mo1.group()"
   ]
  },
  {
   "cell_type": "code",
   "execution_count": null,
   "metadata": {
    "colab": {
     "base_uri": "https://localhost:8080/",
     "height": 35
    },
    "id": "26HN8mH4oX_G",
    "outputId": "bd001245-5857-4b61-ce82-67bf18b9b0c1"
   },
   "outputs": [],
   "source": [
    "mo2 = bat_regex.search('The Adventures of Batwoman')\n",
    "mo2.group()"
   ]
  },
  {
   "cell_type": "code",
   "execution_count": null,
   "metadata": {
    "colab": {
     "base_uri": "https://localhost:8080/",
     "height": 35
    },
    "id": "7lstjDANoX_G",
    "outputId": "70ee2148-546c-44c3-d98c-1c1be099182f"
   },
   "outputs": [],
   "source": [
    "mo3 = bat_regex.search('The Adventures of Batwowowowoman')\n",
    "mo3.group()"
   ]
  },
  {
   "cell_type": "markdown",
   "metadata": {
    "id": "gypCJkNloX_H"
   },
   "source": [
    "### Emparejar uno o más con el +\n",
    "\n",
    "Mientras que * significa \"cero o más\", el + (o más) significa \"uno o más\". El grupo que precede a un plus debe aparecer al menos una vez. No es opcional:"
   ]
  },
  {
   "cell_type": "code",
   "execution_count": null,
   "metadata": {
    "colab": {
     "base_uri": "https://localhost:8080/",
     "height": 35
    },
    "id": "TjG1uEmmoX_H",
    "outputId": "c52b6495-18d8-4e6a-a8cf-3ee8b8461678"
   },
   "outputs": [],
   "source": [
    "bat_regex = re.compile(r'Bat(wo)+man')\n",
    "mo1 = bat_regex.search('The Adventures of Batwoman')\n",
    "mo1.group()"
   ]
  },
  {
   "cell_type": "code",
   "execution_count": null,
   "metadata": {
    "colab": {
     "base_uri": "https://localhost:8080/",
     "height": 35
    },
    "id": "4zyClzKYoX_I",
    "outputId": "3810a8e5-070f-4195-c27b-a228e276c580"
   },
   "outputs": [],
   "source": [
    "mo2 = bat_regex.search('The Adventures of Batwowowowoman')\n",
    "mo2.group()"
   ]
  },
  {
   "cell_type": "code",
   "execution_count": null,
   "metadata": {
    "colab": {
     "base_uri": "https://localhost:8080/"
    },
    "id": "BqnEO7yEoX_I",
    "outputId": "1cc525cb-5c81-4552-85b2-1ace556d2aad"
   },
   "outputs": [],
   "source": [
    "mo3 = bat_regex.search('The Adventures of Batman')\n",
    "mo3 is None"
   ]
  },
  {
   "cell_type": "markdown",
   "metadata": {
    "id": "d_tgpvuPoX_I"
   },
   "source": [
    "### Emparejando repeticiones específicas con llaves {}\n",
    "\n",
    "Si tienes un grupo que quieres repetir un número específico de veces, sigue el grupo en tu regex con un número entre paréntesis. Por ejemplo, el regex (Ha){3} coincidirá con la cadena \"HaHaHa\", pero no coincidirá con \"HaHa\", ya que esta última sólo tiene dos repeticiones del grupo (Ha).\n",
    "\n",
    "En lugar de un número, puede especificar un rango escribiendo un mínimo, una coma y un máximo entre los corchetes. Por ejemplo, el regex (Ha){3,5} coincidirá con \"HaHaHa\", \"HaHaHaHa\", y \"HaHaHaHa."
   ]
  },
  {
   "cell_type": "code",
   "execution_count": null,
   "metadata": {
    "colab": {
     "base_uri": "https://localhost:8080/",
     "height": 35
    },
    "id": "X5FGnZ_yoX_J",
    "outputId": "9a732246-ef73-4b85-8e32-7664f94e89d3"
   },
   "outputs": [],
   "source": [
    "ha_regex = re.compile(r'(Ha){3}')\n",
    "mo1 = ha_regex.search('HaHaHa')\n",
    "mo1.group()"
   ]
  },
  {
   "cell_type": "code",
   "execution_count": null,
   "metadata": {
    "colab": {
     "base_uri": "https://localhost:8080/"
    },
    "id": "CfHXj3gjoX_J",
    "outputId": "61f29db6-48d9-4a65-e1d5-9b067b64a46f"
   },
   "outputs": [],
   "source": [
    "mo2 = ha_regex.search('Ha')\n",
    "mo2 is None"
   ]
  },
  {
   "cell_type": "markdown",
   "metadata": {
    "id": "VK9NFV75oX_K"
   },
   "source": [
    "### La codicia y la falta de codicia...\n",
    "\n",
    "Las expresiones regulares de Python son codiciosas por defecto, lo que significa que en situaciones ambiguas coincidirán con la cuerda más larga posible. La versión no codiciosa de los corchetes, que coincide con la cuerda más corta posible, tiene el corchete de cierre seguido de un signo de interrogación."
   ]
  },
  {
   "cell_type": "code",
   "execution_count": null,
   "metadata": {
    "colab": {
     "base_uri": "https://localhost:8080/",
     "height": 35
    },
    "id": "XYygUUfToX_K",
    "outputId": "06a1bc4b-5145-46f7-e5e2-59ebdfad10c6"
   },
   "outputs": [],
   "source": [
    "greedy_ha_regex = re.compile(r'(Ha){3,5}')\n",
    "mo1 = greedy_ha_regex.search('HaHaHaHaHa')\n",
    "mo1.group()"
   ]
  },
  {
   "cell_type": "code",
   "execution_count": null,
   "metadata": {
    "colab": {
     "base_uri": "https://localhost:8080/",
     "height": 35
    },
    "id": "7d9usxbSoX_L",
    "outputId": "3ccfe76a-301e-4f27-9bcc-1c2d0ab0437c"
   },
   "outputs": [],
   "source": [
    "nongreedy_ha_regex = re.compile(r'(Ha){3,5}?')\n",
    "mo2 = nongreedy_ha_regex.search('HaHaHaHaHa')\n",
    "mo2.group()"
   ]
  },
  {
   "cell_type": "markdown",
   "metadata": {
    "id": "dTZSRGUcoX_L"
   },
   "source": [
    "### El método findall\n",
    "\n",
    "Además del método search(), los objetos Regex también tienen un método findall(). Mientras que search() devolverá un objeto Match del primer texto coincidente en la cadena buscada, el método findall() devolverá las cadenas de cada coincidencia en la cadena buscada."
   ]
  },
  {
   "cell_type": "code",
   "execution_count": null,
   "metadata": {
    "colab": {
     "base_uri": "https://localhost:8080/"
    },
    "id": "mCbwx-o-oX_M",
    "outputId": "84613ef5-5859-4d20-b1f4-cdeb5c6078fb"
   },
   "outputs": [],
   "source": [
    "phone_num_regex = re.compile(r'\\d\\d\\d-\\d\\d\\d-\\d\\d\\d\\d') # has no groups\n",
    "phone_num_regex.findall('Cell: 415-555-9999 Work: 212-555-0000')"
   ]
  },
  {
   "cell_type": "code",
   "execution_count": null,
   "metadata": {
    "colab": {
     "base_uri": "https://localhost:8080/"
    },
    "id": "c9pzb0h0QuDa",
    "outputId": "4abcaa0c-5c1f-4dc2-b7de-7b9caa7f0127"
   },
   "outputs": [],
   "source": [
    "phone_num_regex = re.compile(r'(\\d\\d\\d)-(\\d\\d\\d)-(\\d\\d\\d\\d)') # has no groups\r\n",
    "phone_num_regex.findall('Cell: 415-555-9999 Work: 212-555-0000')"
   ]
  },
  {
   "cell_type": "markdown",
   "metadata": {
    "id": "a8uV89mVoX_M"
   },
   "source": [
    "Para resumir lo que devuelve el método findall(), recuerda lo siguiente:\n",
    "\n",
    "- Cuando se llama a un regex sin grupos, como el de uds., el método findall devuelve una lista de coincidencias, como ['415-555-9999', '212-555-0000'].\n",
    "\n",
    "- Cuando se recurre a un regex que tiene grupos, como (\\d\\d\\d)-d\\d)-(\\d\\ d\\d\\d), el método findall() devuelve una lista de de cadenas (una cadena por cada grupo), como [('415', ', '9999'), ('212', '555', '0000')].\n",
    "\n",
    "### Haciendo sus propias clases de carácter\n",
    "\n",
    "Hay veces en las que se quiere hacer coincidir un conjunto de carácteres, pero las clases de metacaracteres (\\d, \\w, \\s, y así sucesivamente) son demasiados amplios. Puedes definir tu propia clase de personaje usando corchetes. Por ejemplo, la clase de carácter [aeiouAEIOU] coincidirá con cualquier vocal, tanto en minúsculas como en mayúsculas."
   ]
  },
  {
   "cell_type": "code",
   "execution_count": null,
   "metadata": {
    "colab": {
     "base_uri": "https://localhost:8080/"
    },
    "id": "-cR5qpwSoX_N",
    "outputId": "b6c6d6ac-f5c2-4a92-afc3-a057cb6476c3"
   },
   "outputs": [],
   "source": [
    "vowel_regex = re.compile(r'[aeiouAEIOU]')\n",
    "vowel_regex.findall('Robocop eats baby food. BABY FOOD.')"
   ]
  },
  {
   "cell_type": "markdown",
   "metadata": {
    "id": "NJvlqMXYoX_O"
   },
   "source": [
    "También se pueden incluir rangos de letras o números utilizando un guión. Por ejemplo, la clase de caracteres [a-zA-Z0-9] coincidirá con todas las letras minúsculas, mayúsculas y números.\n",
    "\n",
    "Colocando un carácter (^) justo después del paréntesis de apertura de la clase de caracteres, puedes hacer una clase de caracteres negativa. Una clase de caracter negativo coincidirá con todos los caracteres que no estén en la clase de caracter. Por ejemplo, introduce lo siguiente en la concha interactiva:"
   ]
  },
  {
   "cell_type": "code",
   "execution_count": null,
   "metadata": {
    "colab": {
     "base_uri": "https://localhost:8080/"
    },
    "id": "p6P7WJY2oX_P",
    "outputId": "5eb20738-e9e6-458c-f9fc-85aff369bac3"
   },
   "outputs": [],
   "source": [
    "consonant_regex = re.compile(r'[^aeiouAEIOU]')\n",
    "consonant_regex.findall('Robocop eats baby food. BABY FOOD.')"
   ]
  },
  {
   "cell_type": "markdown",
   "metadata": {
    "id": "7FOXXcwjoX_P"
   },
   "source": [
    "### Los personajes del signo del dólar y del alfabeto\n",
    "\n",
    "- También puede utilizar el símbolo de la caricia (^) al comienzo de una regex para indicar que debe producirse una coincidencia al principio del texto buscado.\n",
    "\n",
    "- Del mismo modo, puede poner el signo de dólar ($) al final de la expresión para indicar que la cadena debe terminar con este patrón.\n",
    "\n",
    "- Y puedes usar la ^ y $ juntos para indicar que toda la cadena debe coincidir con la expresión geológica, es decir, no basta con que se haga una coincidencia en algún subconjunto de la cadena.\n",
    "\n",
    "La cadena de expresión regular r'^Hello' coincide con las cadenas que comienzan con 'Hello':"
   ]
  },
  {
   "cell_type": "code",
   "execution_count": null,
   "metadata": {
    "colab": {
     "base_uri": "https://localhost:8080/"
    },
    "id": "hYfTI6C4oX_Q",
    "outputId": "5f0bf92b-299a-4979-bfe6-d2fc00cb2cbb"
   },
   "outputs": [],
   "source": [
    "begins_with_hello = re.compile(r'^Hello')\n",
    "begins_with_hello.search('Hello world!')"
   ]
  },
  {
   "cell_type": "code",
   "execution_count": null,
   "metadata": {
    "colab": {
     "base_uri": "https://localhost:8080/"
    },
    "id": "lC7jgbF2oX_W",
    "outputId": "abcbc255-bdf1-4678-fca8-49623b31d4b3"
   },
   "outputs": [],
   "source": [
    "begins_with_hello.search('He said Hello.') is None"
   ]
  },
  {
   "cell_type": "markdown",
   "metadata": {
    "id": "8QFzpR71oX_W"
   },
   "source": [
    "La cadena de expresión regular \"r'\\d$\" coincide con cadenas que terminan con un carácter numérico del 0 al 9:"
   ]
  },
  {
   "cell_type": "code",
   "execution_count": null,
   "metadata": {
    "colab": {
     "base_uri": "https://localhost:8080/"
    },
    "id": "ikb-EUiGoX_X",
    "outputId": "c51a0e0e-8f77-41e8-be2c-c351c82037a8"
   },
   "outputs": [],
   "source": [
    "whole_string_is_num = re.compile(r'^\\d+$')\n",
    "whole_string_is_num.search('1234567890')"
   ]
  },
  {
   "cell_type": "code",
   "execution_count": null,
   "metadata": {
    "colab": {
     "base_uri": "https://localhost:8080/"
    },
    "id": "fCkU_fisoX_X",
    "outputId": "49bb2c04-6c94-4ad3-8efb-83a973e75d4a"
   },
   "outputs": [],
   "source": [
    "whole_string_is_num.search('12345xyz67890') is None"
   ]
  },
  {
   "cell_type": "code",
   "execution_count": null,
   "metadata": {
    "colab": {
     "base_uri": "https://localhost:8080/"
    },
    "id": "s1mFwv6XoX_Z",
    "outputId": "6ad973e0-d3bf-4ce6-a5cf-e2ccce1e1cc2"
   },
   "outputs": [],
   "source": [
    "whole_string_is_num.search('12 34567890') is None"
   ]
  },
  {
   "cell_type": "markdown",
   "metadata": {
    "id": "GLcTY8ZFoX_a"
   },
   "source": [
    "### El carácter de comodín\n",
    "\n",
    "El carácter . (o punto) en una expresión regular se llama comodín y coincidirá con cualquier carácter excepto con una nueva línea:"
   ]
  },
  {
   "cell_type": "code",
   "execution_count": null,
   "metadata": {
    "colab": {
     "base_uri": "https://localhost:8080/"
    },
    "id": "T00wrjw1oX_a",
    "outputId": "ff267801-5da9-4755-e57b-3b5ee4ecfd3b"
   },
   "outputs": [],
   "source": [
    "at_regex = re.compile(r'.at')\n",
    "at_regex.findall('The cat in the hat sat on the flat mat.')"
   ]
  },
  {
   "cell_type": "markdown",
   "metadata": {
    "id": "MM6fcBPWoX_b"
   },
   "source": [
    "### Emparejar todo con Dot-Star"
   ]
  },
  {
   "cell_type": "code",
   "execution_count": null,
   "metadata": {
    "colab": {
     "base_uri": "https://localhost:8080/",
     "height": 35
    },
    "id": "sSuvC_rNoX_c",
    "outputId": "4ac26ca2-4ab1-4e13-bf0e-7c22c0623833"
   },
   "outputs": [],
   "source": [
    "name_regex = re.compile(r'First Name: (.*) Last Name: (.*)')\n",
    "mo = name_regex.search('First Name: Some Last Name: One')\n",
    "mo.group(1)"
   ]
  },
  {
   "cell_type": "code",
   "execution_count": null,
   "metadata": {
    "colab": {
     "base_uri": "https://localhost:8080/",
     "height": 35
    },
    "id": "yrMbpEjUoX_d",
    "outputId": "19887c1f-7ec8-40f1-eb69-764682104373"
   },
   "outputs": [],
   "source": [
    "mo.group(2)"
   ]
  },
  {
   "cell_type": "markdown",
   "metadata": {
    "id": "CUHkYNDhoX_d"
   },
   "source": [
    "La estrella de puntos usa el modo codicioso: Siempre tratará de hacer coincidir la mayor cantidad de texto posible. Para emparejar cualquier y todo el texto de forma no codiciosa, usa el punto, la estrella y el signo de interrogación (.*?). El signo de interrogación le dice a Python que coincida de una manera no codiciosa:"
   ]
  },
  {
   "cell_type": "code",
   "execution_count": null,
   "metadata": {
    "colab": {
     "base_uri": "https://localhost:8080/",
     "height": 35
    },
    "id": "dYvxeD7AoX_e",
    "outputId": "be0c9495-d16f-413f-c423-0df17910d507"
   },
   "outputs": [],
   "source": [
    "nongreedy_regex = re.compile(r'<.*?>')\n",
    "mo = nongreedy_regex.search('<To serve man> for dinner.>')\n",
    "mo.group()"
   ]
  },
  {
   "cell_type": "code",
   "execution_count": null,
   "metadata": {
    "colab": {
     "base_uri": "https://localhost:8080/",
     "height": 35
    },
    "id": "ZCFEVlGmoX_f",
    "outputId": "f0ea319f-3fa0-43aa-f422-10217a34b12e"
   },
   "outputs": [],
   "source": [
    "greedy_regex = re.compile(r'<.*>')\n",
    "mo = greedy_regex.search('<To serve man> for dinner.>')\n",
    "mo.group()"
   ]
  },
  {
   "cell_type": "markdown",
   "metadata": {
    "id": "DDLmeQ66oX_g"
   },
   "source": [
    "### Emparejar las nuevas líneas con el carácter  punto\n",
    "\n",
    "La estrella de puntos coincidirá con todo excepto con una nueva línea. Pasando re.DOTALL como segundo argumento de re.compile(), puedes hacer que el carácter punto-estrella coincida con todos los caracteres, incluyendo el carácter de la nueva línea:"
   ]
  },
  {
   "cell_type": "code",
   "execution_count": null,
   "metadata": {
    "colab": {
     "base_uri": "https://localhost:8080/",
     "height": 35
    },
    "id": "_ZWXQGAOoX_h",
    "outputId": "04c6442c-2dc7-424f-c2d2-4f582054a879"
   },
   "outputs": [],
   "source": [
    "no_newline_regex = re.compile('.*')\n",
    "no_newline_regex.search('Serve the public trust.\\nProtect the innocent.\\nUphold the law.').group()"
   ]
  },
  {
   "cell_type": "code",
   "execution_count": null,
   "metadata": {
    "colab": {
     "base_uri": "https://localhost:8080/",
     "height": 35
    },
    "id": "FweF0UmRoX_i",
    "outputId": "8b399536-d0f4-466a-8f23-21ebc5eeebea"
   },
   "outputs": [],
   "source": [
    "newline_regex = re.compile('.*', re.DOTALL)\n",
    "newline_regex.search('Serve the public trust.\\nProtect the innocent.\\nUphold the law.').group()"
   ]
  },
  {
   "cell_type": "markdown",
   "metadata": {
    "id": "Y6943j-VoX_j"
   },
   "source": [
    "### Revisión de los símbolos de Regex\n",
    "\n",
    "| Symbol                   | Matches                                                      |\n",
    "| ------------------------ | ------------------------------------------------------------ |\n",
    "| `?`                      | zero or one of the preceding group.                          |\n",
    "| `*`                      | zero or more of the preceding group.                         |\n",
    "| `+`                      | one or more of the preceding group.                          |\n",
    "| `{n}`                    | exactly n of the preceding group.                            |\n",
    "| `{n,}`                   | n or more of the preceding group.                            |\n",
    "| `{,m}`                   | 0 to m of the preceding group.                               |\n",
    "| `{n,m}`                  | at least n and at most m of the preceding p.                 |\n",
    "| `{n,m}?` or `*?` or `+?` | performs a nongreedy match of the preceding p.               |\n",
    "| `^spam`                  | means the string must begin with spam.                       |\n",
    "| `spam$`                  | means the string must end with spam.                         |\n",
    "| `.`                      | any character, except newline characters.                    |\n",
    "| `\\d`, `\\w`, and `\\s`     | a digit, word, or space character, resectively.              |\n",
    "| `\\D`, `\\W`, and `\\S`     | anything except a digit, word, or space acter, respectively. |\n",
    "| `[abc]`                  | any character between the brackets (such as a, b, ).         |\n",
    "| `[^abc]`                 | any character that isn’t between the brackets.              |\n",
    "\n",
    "### Coincidencia de casos insensibles\n",
    "\n",
    "Para hacer que su regex sea insensible a las mayúsculas y minúsculas, puede pasar re.IGNORECASE o re.I como segundo argumento para re.compile():"
   ]
  },
  {
   "cell_type": "code",
   "execution_count": null,
   "metadata": {
    "colab": {
     "base_uri": "https://localhost:8080/",
     "height": 35
    },
    "id": "hOA4jjZToX_k",
    "outputId": "e38dc9b8-01ca-45db-d85e-30406374bd6a"
   },
   "outputs": [],
   "source": [
    "robocop = re.compile(r'robocop', re.I)\n",
    "robocop.search('Robocop is part man, part machine, all cop.').group()"
   ]
  },
  {
   "cell_type": "code",
   "execution_count": null,
   "metadata": {
    "colab": {
     "base_uri": "https://localhost:8080/",
     "height": 35
    },
    "id": "AZIzlppboX_k",
    "outputId": "5f09d536-1fa3-4b83-e7df-1aa9c958e00e"
   },
   "outputs": [],
   "source": [
    "robocop.search('ROBOCOP protects the innocent.').group()"
   ]
  },
  {
   "cell_type": "code",
   "execution_count": null,
   "metadata": {
    "colab": {
     "base_uri": "https://localhost:8080/",
     "height": 35
    },
    "id": "0a3PUolZoX_l",
    "outputId": "d0c1226f-d9da-4023-bc6e-9941b8b7a5be"
   },
   "outputs": [],
   "source": [
    "robocop.search('Al, why does your programming book talk about robocop so much?').group()"
   ]
  },
  {
   "cell_type": "markdown",
   "metadata": {
    "id": "iuwMtwWsoX_l"
   },
   "source": [
    "### Sustitución de las cadenas por el método sub()\n",
    "\n",
    "Al método sub() para los objetos Regex se le pasan dos argumentos:\n",
    "\n",
    "1. El primer argumento es una cadena para reemplazar cualquier coincidencia.\n",
    "1. El segundo es la cadena para la expresión regular.\n",
    "\n",
    "El método sub() devuelve una cadena de caracteres con las sustituciones aplicadas:"
   ]
  },
  {
   "cell_type": "code",
   "execution_count": null,
   "metadata": {
    "colab": {
     "base_uri": "https://localhost:8080/",
     "height": 35
    },
    "id": "wryH6Cw9oX_m",
    "outputId": "85c6fb17-554e-4f24-82ed-fed09785cfca"
   },
   "outputs": [],
   "source": [
    "names_regex = re.compile(r'Agent \\w+')\n",
    "names_regex.sub('CENSORED', 'Agent Alice gave the secret documents to Agent Bob.')"
   ]
  },
  {
   "cell_type": "markdown",
   "metadata": {
    "id": "vuKKs3jXoX_m"
   },
   "source": [
    "Otro ejemplo:"
   ]
  },
  {
   "cell_type": "code",
   "execution_count": null,
   "metadata": {
    "colab": {
     "base_uri": "https://localhost:8080/",
     "height": 35
    },
    "id": "YgAMTpddoX_n",
    "outputId": "67e4c14e-f7dc-42e6-e7d0-b52656e5a57a"
   },
   "outputs": [],
   "source": [
    "agent_names_regex = re.compile(r'Agent (\\w)\\w*')\n",
    "agent_names_regex.sub(r'\\1****', 'Agent Alice told Agent Carol that Agent Eve knew Agent Bob was a double agent.')"
   ]
  },
  {
   "cell_type": "markdown",
   "metadata": {
    "id": "wdxMMMsQoX_n"
   },
   "source": [
    "### Manejo de Regexes complejos\n",
    "\n",
    "Para decirle a la función re.compile() que ignore los espacios en blanco y los comentarios dentro de la cadena de expresión regular, se puede activar el \"modo verboso\" pasando la variable re.VERBOSE como segundo argumento a re.compile().\n",
    "\n",
    "Ahora, en lugar de una expresión regular difícil de leer como esta:"
   ]
  },
  {
   "cell_type": "code",
   "execution_count": null,
   "metadata": {
    "id": "_Gq93MQZoX_n"
   },
   "outputs": [],
   "source": [
    "phone_regex = re.compile(r'((\\d{3}|\\(\\d{3}\\))?(\\s|-|\\.)?\\d{3}(\\s|-|\\.)\\d{4}(\\s*(ext|x|ext.)\\s*\\d{2,5})?)')"
   ]
  },
  {
   "cell_type": "markdown",
   "metadata": {
    "id": "ovR1jeTxoX_o"
   },
   "source": [
    "you can spread the regular expression over multiple lines with comments like this:"
   ]
  },
  {
   "cell_type": "code",
   "execution_count": null,
   "metadata": {
    "id": "HHJ7UmYeoX_p"
   },
   "outputs": [],
   "source": [
    "phone_regex = re.compile(r'''(\n",
    "    (\\d{3}|\\(\\d{3}\\))?            # area code\n",
    "    (\\s|-|\\.)?                    # separator\n",
    "    \\d{3}                         # first 3 digits\n",
    "    (\\s|-|\\.)                     # separator\n",
    "    \\d{4}                         # last 4 digits\n",
    "    (\\s*(ext|x|ext.)\\s*\\d{2,5})?  # extension\n",
    "    )''', re.VERBOSE)"
   ]
  },
  {
   "cell_type": "markdown",
   "metadata": {},
   "source": [
    "## Resolver"
   ]
  },
  {
   "cell_type": "markdown",
   "metadata": {},
   "source": [
    "Hasta ahora, los ejemplos que ha observado pueden considerarse “de juguete”, sin mucha utilidad práctica más allá de ilustrar el funcionamiento de los métodos del módulo regex. Para concluir vamos a aplicar lo que hemos aprendido en un caso mucho más divertido.\n",
    "\n",
    "En el campo de la bioinformática, las expresiones regulares son muy útiles para **buscar secuencias** dentro de una cadena de ADN o ARN.\n",
    "\n",
    "En el ADN, la información genética se representa mediante cuatro letras distintas que se corresponden a cuatro bases nitrogenadas: adenina (A), timina (T), guanina (G) y citosina (C). Las bases se agrupan en secuencias de tres caracteres llamadas codones. En el ADN hay 64 codones distintos, según la combinación de letras que los formen. La mayoría de codones sirven para codificar aminoácidos que, a su vez, sirven para construir proteínas útiles para el organismo.\n",
    "\n",
    "Las Nucleoporinas son una familia de proteínas que regulan el intercambio de moléculas entre el núcleo celular y la membrana. La cadena de ADN que codifica estas proteinas tiene secuencias repetitivas de los aminoácidos fenilalanina y glicina.\n",
    "\n",
    "Una de las proteínas de esta familia es la NUP153. En este ejemplo usaremos expresiones regulares para buscar las repeticiones de codones que codifican la fenilalanina y la glicina.\n",
    "\n",
    "La proteína NUP153.\n",
    "![proteina](https://robologs.net/wp-content/uploads/2019/04/NUP153-300x169.png)\n",
    "\n",
    "El primer paso es buscar un fichero con la secuencia del gen NUP153. En bioinformática se utilizan los ficheros en formato FASTA, que representan secuencias de ácido nucleico o bien de proteínas. Puedes descargar el archivo del gen NUP153 desde [aqui](https://www.ncbi.nlm.nih.gov/nuccore/NC_000006.12?report=fasta&from=17615035&to=17706834&strand=true).\n",
    "\n",
    "Ahora… ¿**cuál es la expresión regular** que permite identificar los dos aminoácidos que buscamos? La glicina se codifica con los codones GGA, GGC y GGG, la fenilalanina se codifica con TTT y TTC. Se requiere encontrar las repeticiones de codones; no queremos buscar los codones individuales"
   ]
  },
  {
   "cell_type": "code",
   "execution_count": null,
   "metadata": {},
   "outputs": [],
   "source": []
  }
 ],
 "metadata": {
  "colab": {
   "name": "ExpresionesRegulares.ipynb",
   "provenance": []
  },
  "kernelspec": {
   "display_name": "Python 3",
   "language": "python",
   "name": "python3"
  },
  "language_info": {
   "codemirror_mode": {
    "name": "ipython",
    "version": 3
   },
   "file_extension": ".py",
   "mimetype": "text/x-python",
   "name": "python",
   "nbconvert_exporter": "python",
   "pygments_lexer": "ipython3",
   "version": "3.7.6"
  }
 },
 "nbformat": 4,
 "nbformat_minor": 4
}
